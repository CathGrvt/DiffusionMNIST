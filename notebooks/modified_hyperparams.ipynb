{
 "cells": [
  {
   "cell_type": "markdown",
   "metadata": {
    "id": "nOqtixLa1y-b"
   },
   "source": [
    "The following example notebook implements standard diffusion\n",
    "with a simple CNN model to generate realistic MNIST digits.\n",
    "\n",
    "This is a modified implementation of `minDiffusion`\n",
    "which implements [DDPM](https://arxiv.org/abs/2006.11239)."
   ]
  },
  {
   "cell_type": "markdown",
   "metadata": {
    "id": "tdKWXf8GKNtB"
   },
   "source": [
    "To run this example notebook,\n",
    "install requirements as in `requirements.txt` (for example, `pip install -r requirements.txt`).\n",
    "You may also wish to follow system-dependent PyTorch instructions\n",
    "[here](https://pytorch.org/) to install accelerated\n",
    "versions of PyTorch, but note they are not needed\n",
    "(I am testing this on my laptop).\n",
    "\n",
    "If you do use accelerated hardware, make sure that your code\n",
    "is still compatible with CPU-only installs.\n",
    "\n",
    "First, let's create a folder to store example images:"
   ]
  },
  {
   "cell_type": "code",
   "execution_count": 3,
   "metadata": {
    "colab": {
     "base_uri": "https://localhost:8080/"
    },
    "id": "gaJ7P2ft2G6j",
    "outputId": "1f870fca-dc65-4778-c188-a355d0798834"
   },
   "outputs": [
    {
     "name": "stdout",
     "output_type": "stream",
     "text": [
      "Requirement already satisfied: accelerate in /opt/conda/envs/sagemaker-distribution/lib/python3.8/site-packages (0.28.0)\n",
      "Requirement already satisfied: numpy>=1.17 in /opt/conda/envs/sagemaker-distribution/lib/python3.8/site-packages (from accelerate) (1.24.4)\n",
      "Requirement already satisfied: packaging>=20.0 in /opt/conda/envs/sagemaker-distribution/lib/python3.8/site-packages (from accelerate) (23.1)\n",
      "Requirement already satisfied: psutil in /opt/conda/envs/sagemaker-distribution/lib/python3.8/site-packages (from accelerate) (5.9.5)\n",
      "Requirement already satisfied: pyyaml in /opt/conda/envs/sagemaker-distribution/lib/python3.8/site-packages (from accelerate) (6.0)\n",
      "Requirement already satisfied: torch>=1.10.0 in /opt/conda/envs/sagemaker-distribution/lib/python3.8/site-packages (from accelerate) (2.0.0.post200)\n",
      "Requirement already satisfied: huggingface-hub in /opt/conda/envs/sagemaker-distribution/lib/python3.8/site-packages (from accelerate) (0.21.4)\n",
      "Requirement already satisfied: safetensors>=0.3.1 in /opt/conda/envs/sagemaker-distribution/lib/python3.8/site-packages (from accelerate) (0.4.2)\n",
      "Requirement already satisfied: filelock in /opt/conda/envs/sagemaker-distribution/lib/python3.8/site-packages (from torch>=1.10.0->accelerate) (3.12.2)\n",
      "Requirement already satisfied: typing-extensions in /opt/conda/envs/sagemaker-distribution/lib/python3.8/site-packages (from torch>=1.10.0->accelerate) (4.5.0)\n",
      "Requirement already satisfied: sympy in /opt/conda/envs/sagemaker-distribution/lib/python3.8/site-packages (from torch>=1.10.0->accelerate) (1.12)\n",
      "Requirement already satisfied: networkx in /opt/conda/envs/sagemaker-distribution/lib/python3.8/site-packages (from torch>=1.10.0->accelerate) (3.1)\n",
      "Requirement already satisfied: jinja2 in /opt/conda/envs/sagemaker-distribution/lib/python3.8/site-packages (from torch>=1.10.0->accelerate) (3.1.2)\n",
      "Requirement already satisfied: fsspec>=2023.5.0 in /opt/conda/envs/sagemaker-distribution/lib/python3.8/site-packages (from huggingface-hub->accelerate) (2024.3.1)\n",
      "Requirement already satisfied: requests in /opt/conda/envs/sagemaker-distribution/lib/python3.8/site-packages (from huggingface-hub->accelerate) (2.31.0)\n",
      "Requirement already satisfied: tqdm>=4.42.1 in /opt/conda/envs/sagemaker-distribution/lib/python3.8/site-packages (from huggingface-hub->accelerate) (4.65.0)\n",
      "Requirement already satisfied: MarkupSafe>=2.0 in /opt/conda/envs/sagemaker-distribution/lib/python3.8/site-packages (from jinja2->torch>=1.10.0->accelerate) (2.1.3)\n",
      "Requirement already satisfied: charset-normalizer<4,>=2 in /opt/conda/envs/sagemaker-distribution/lib/python3.8/site-packages (from requests->huggingface-hub->accelerate) (3.2.0)\n",
      "Requirement already satisfied: idna<4,>=2.5 in /opt/conda/envs/sagemaker-distribution/lib/python3.8/site-packages (from requests->huggingface-hub->accelerate) (3.4)\n",
      "Requirement already satisfied: urllib3<3,>=1.21.1 in /opt/conda/envs/sagemaker-distribution/lib/python3.8/site-packages (from requests->huggingface-hub->accelerate) (1.26.15)\n",
      "Requirement already satisfied: certifi>=2017.4.17 in /opt/conda/envs/sagemaker-distribution/lib/python3.8/site-packages (from requests->huggingface-hub->accelerate) (2023.7.22)\n",
      "Requirement already satisfied: mpmath>=0.19 in /opt/conda/envs/sagemaker-distribution/lib/python3.8/site-packages (from sympy->torch>=1.10.0->accelerate) (1.3.0)\n"
     ]
    }
   ],
   "source": [
    "# !mkdir -p contents\n",
    "!pip install accelerate"
   ]
  },
  {
   "cell_type": "code",
   "execution_count": 31,
   "metadata": {
    "id": "50FGtZsk1y-b",
    "tags": []
   },
   "outputs": [],
   "source": [
    "from typing import Dict, Tuple\n",
    "\n",
    "import numpy as np\n",
    "import torch\n",
    "import torch.nn as nn\n",
    "from accelerate import Accelerator\n",
    "from tqdm import tqdm\n",
    "from torch.utils.data import DataLoader\n",
    "from torchvision import transforms\n",
    "from torchvision.datasets import MNIST\n",
    "from torchvision.utils import save_image, make_grid"
   ]
  },
  {
   "cell_type": "code",
   "execution_count": 32,
   "metadata": {
    "colab": {
     "base_uri": "https://localhost:8080/"
    },
    "id": "SyQAOAkTKNtC",
    "outputId": "eb3302c8-b0ec-4aba-eccd-a96ccae4393e",
    "tags": []
   },
   "outputs": [
    {
     "name": "stdout",
     "output_type": "stream",
     "text": [
      "cuda:0\n"
     ]
    }
   ],
   "source": [
    "device = torch.device(\"cuda:0\" if torch.cuda.is_available() else \"cpu\")\n",
    "print(device)"
   ]
  },
  {
   "cell_type": "markdown",
   "metadata": {
    "id": "iBuJNorHKNtC"
   },
   "source": [
    "The following function creates a DDPM training schedule for use when evaluating\n",
    "and training the diffusion model:"
   ]
  },
  {
   "cell_type": "code",
   "execution_count": 33,
   "metadata": {
    "id": "MMQ1-BSc1y-c",
    "tags": []
   },
   "outputs": [],
   "source": [
    "def ddpm_schedules(beta1: float, beta2: float, T: int) -> Dict[str, torch.Tensor]:\n",
    "    \"\"\"Returns pre-computed schedules for DDPM sampling with a linear noise schedule.\"\"\"\n",
    "    assert beta1 < beta2 < 1.0, \"beta1 and beta2 must be in (0, 1)\"\n",
    "\n",
    "    beta_t = (beta2 - beta1) * torch.arange(0, T + 1, dtype=torch.float32) / T + beta1\n",
    "    alpha_t = torch.exp(torch.cumsum(torch.log(1 - beta_t), dim=0))  # Cumprod in log-space (better precision)\n",
    "\n",
    "    return {\"beta_t\": beta_t, \"alpha_t\": alpha_t}\n"
   ]
  },
  {
   "cell_type": "markdown",
   "metadata": {
    "id": "paoqYJJ2KNtD"
   },
   "source": [
    "Next, we create a simple 2D convolutional neural network. This network\n",
    "is essentially going to try to estimate the diffusion process --- we\n",
    "can then use this network to generate realistic images.\n",
    "\n",
    "First, we create a single CNN block which we will stack to create the\n",
    "full network. We use `LayerNorm` for stable training and no batch dependence."
   ]
  },
  {
   "cell_type": "code",
   "execution_count": 34,
   "metadata": {
    "id": "d16i_bcV1y-d",
    "tags": []
   },
   "outputs": [],
   "source": [
    "class CNNBlock(nn.Module):\n",
    "    def __init__(\n",
    "        self,\n",
    "        in_channels,\n",
    "        out_channels,\n",
    "        *,\n",
    "        expected_shape,\n",
    "        act=nn.GELU,\n",
    "        kernel_size=7,\n",
    "    ):\n",
    "        super().__init__()\n",
    "\n",
    "        self.net = nn.Sequential(\n",
    "            nn.Conv2d(in_channels, out_channels, kernel_size, padding=kernel_size // 2),\n",
    "                        nn.LayerNorm((out_channels, *expected_shape)),\n",
    "            act()\n",
    "        )\n",
    "\n",
    "    def forward(self, x):\n",
    "        return self.net(x)"
   ]
  },
  {
   "cell_type": "markdown",
   "metadata": {
    "id": "JkcLNGP0KNtD"
   },
   "source": [
    "We then create the full CNN model, which is a stack of these blocks\n",
    "according to the `n_hidden` tuple, which specifies the number of\n",
    "channels at each hidden layer."
   ]
  },
  {
   "cell_type": "code",
   "execution_count": 35,
   "metadata": {
    "id": "ZSvzdt1f1y-d",
    "tags": []
   },
   "outputs": [],
   "source": [
    "class CNN(nn.Module):\n",
    "    def __init__(\n",
    "        self,\n",
    "        in_channels,\n",
    "        expected_shape=(28, 28),\n",
    "        n_hidden=(64, 128, 64),\n",
    "        kernel_size=7,\n",
    "        last_kernel_size=3,\n",
    "        time_embeddings=16,\n",
    "        act=nn.GELU,\n",
    "    ) -> None:\n",
    "        super().__init__()\n",
    "        last = in_channels\n",
    "\n",
    "        self.blocks = nn.ModuleList()\n",
    "        for hidden in n_hidden:\n",
    "            self.blocks.append(\n",
    "                CNNBlock(\n",
    "                    last,\n",
    "                    hidden,\n",
    "                    expected_shape=expected_shape,\n",
    "                    kernel_size=kernel_size,\n",
    "                    act=act,\n",
    "                )\n",
    "            )\n",
    "            last = hidden\n",
    "\n",
    "        # The final layer, we use a regular Conv2d to get the\n",
    "        # correct scale and shape (and avoid applying the activation)\n",
    "        self.blocks.append(\n",
    "            nn.Conv2d(\n",
    "                last,\n",
    "                in_channels,\n",
    "                last_kernel_size,\n",
    "                padding=last_kernel_size // 2,\n",
    "            )\n",
    "        )\n",
    "\n",
    "        ## This part is literally just to put the single scalar \"t\" into the CNN\n",
    "        ## in a nice, high-dimensional way:\n",
    "        self.time_embed = nn.Sequential(\n",
    "            nn.Linear(time_embeddings * 2, 128), act(),\n",
    "            nn.Linear(128, 128), act(),\n",
    "            nn.Linear(128, 128), act(),\n",
    "            nn.Linear(128, n_hidden[0]),\n",
    "        )\n",
    "        frequencies = torch.tensor(\n",
    "            [0] + [2 * np.pi * 1.5**i for i in range(time_embeddings - 1)]\n",
    "        )\n",
    "        self.register_buffer(\"frequencies\", frequencies)\n",
    "\n",
    "    def time_encoding(self, t: torch.Tensor) -> torch.Tensor:\n",
    "        phases = torch.concat(\n",
    "            (\n",
    "                torch.sin(t[:, None] * self.frequencies[None, :]),\n",
    "                torch.cos(t[:, None] * self.frequencies[None, :]) - 1,\n",
    "            ),\n",
    "            dim=1,\n",
    "        )\n",
    "\n",
    "        return self.time_embed(phases)[:, :, None, None]\n",
    "\n",
    "    def forward(self, x: torch.Tensor, t: torch.Tensor) -> torch.Tensor:\n",
    "        # Shapes of input:\n",
    "        #    x: (batch, chan, height, width)\n",
    "        #    t: (batch,)\n",
    "\n",
    "        embed = self.blocks[0](x)\n",
    "        # ^ (batch, n_hidden[0], height, width)\n",
    "\n",
    "        # Add information about time along the diffusion process\n",
    "        #  (Providing this information by superimposing in latent space)\n",
    "        embed += self.time_encoding(t)\n",
    "        #         ^ (batch, n_hidden[0], 1, 1) - thus, broadcasting\n",
    "        #           to the entire spatial domain\n",
    "\n",
    "        for block in self.blocks[1:]:\n",
    "            embed = block(embed)\n",
    "\n",
    "        return embed"
   ]
  },
  {
   "cell_type": "markdown",
   "metadata": {
    "id": "fMnFtnzyKNtD"
   },
   "source": [
    "Next, we define the actual diffusion model, which specifies the training\n",
    "schedule, takes an arbitrary model for estimating the\n",
    "diffusion process (such as the CNN above),\n",
    "and computes the corresponding loss (as well as generating samples)."
   ]
  },
  {
   "cell_type": "code",
   "execution_count": 36,
   "metadata": {
    "id": "pCZe8Q651y-d",
    "tags": []
   },
   "outputs": [],
   "source": [
    "class DDPM(nn.Module):\n",
    "    def __init__(\n",
    "        self,\n",
    "        gt,\n",
    "        betas: Tuple[float, float],\n",
    "        n_T: int,\n",
    "        criterion: nn.Module = nn.MSELoss(),\n",
    "    ) -> None:\n",
    "        super().__init__()\n",
    "\n",
    "        self.gt = gt\n",
    "\n",
    "        noise_schedule = ddpm_schedules(betas[0], betas[1], n_T)\n",
    "\n",
    "        # `register_buffer` will track these tensors for device placement, but\n",
    "        # not store them as model parameters. This is useful for constants.\n",
    "        self.register_buffer(\"beta_t\", noise_schedule[\"beta_t\"])\n",
    "        self.beta_t  # Exists! Set by register_buffer\n",
    "        self.register_buffer(\"alpha_t\", noise_schedule[\"alpha_t\"])\n",
    "        self.alpha_t\n",
    "\n",
    "        self.n_T = n_T\n",
    "        self.criterion = criterion\n",
    "\n",
    "    def forward(self, x: torch.Tensor) -> torch.Tensor:\n",
    "        \"\"\"Algorithm 18.1 in Prince\"\"\"\n",
    "\n",
    "        t = torch.randint(1, self.n_T, (x.shape[0],), device=x.device)\n",
    "        eps = torch.randn_like(x)  # eps ~ N(0, 1)\n",
    "        alpha_t = self.alpha_t[t, None, None, None]  # Get right shape for broadcasting\n",
    "\n",
    "        z_t = torch.sqrt(alpha_t) * x + torch.sqrt(1 - alpha_t) * eps\n",
    "        # This is the z_t, which is sqrt(alphabar) x_0 + sqrt(1-alphabar) * eps\n",
    "        # We should predict the \"error term\" from this z_t. Loss is what we return.\n",
    "\n",
    "        return self.criterion(eps, self.gt(z_t, t / self.n_T))\n",
    "\n",
    "    def sample(self, n_sample: int, size, device) -> torch.Tensor:\n",
    "        \"\"\"Algorithm 18.2 in Prince\"\"\"\n",
    "\n",
    "        _one = torch.ones(n_sample, device=device)\n",
    "        z_t = torch.randn(n_sample, *size, device=device)\n",
    "        for i in range(self.n_T, 0, -1):\n",
    "            alpha_t = self.alpha_t[i]\n",
    "            beta_t = self.beta_t[i]\n",
    "\n",
    "            # First line of loop:\n",
    "            z_t -= (beta_t / torch.sqrt(1 - alpha_t)) * self.gt(z_t, (i/self.n_T) * _one)\n",
    "            z_t /= torch.sqrt(1 - beta_t)\n",
    "\n",
    "            if i > 1:\n",
    "                # Last line of loop:\n",
    "                z_t += torch.sqrt(beta_t) * torch.randn_like(z_t)\n",
    "            # (We don't add noise at the final step - i.e., the last line of the algorithm)\n",
    "\n",
    "        return z_t"
   ]
  },
  {
   "cell_type": "markdown",
   "metadata": {
    "id": "4060qb0KKNtE"
   },
   "source": [
    "We will run this on MNIST. We perform some basic preprocessing, and set up the data loader:"
   ]
  },
  {
   "cell_type": "code",
   "execution_count": 37,
   "metadata": {
    "colab": {
     "base_uri": "https://localhost:8080/"
    },
    "id": "a6jMrCRa1y-d",
    "outputId": "2ddb4c63-e27d-4eeb-8c8e-8e53fe912cb1",
    "tags": []
   },
   "outputs": [],
   "source": [
    "tf = transforms.Compose([transforms.ToTensor(), transforms.Normalize((0.5,), (1.0))])\n",
    "# dataset = MNIST(\"./data\", train=True, download=True, transform=tf)\n",
    "dataset = MNIST(\"./data\", train=True, download=False, transform=tf)\n",
    "dataloader = DataLoader(dataset, batch_size=128, shuffle=True, num_workers=4, drop_last=True)"
   ]
  },
  {
   "cell_type": "markdown",
   "metadata": {
    "id": "YX0kTidAKNtE"
   },
   "source": [
    "We create our model with a given choice of hidden layers and activation function. We also choose a learning rate."
   ]
  },
  {
   "cell_type": "code",
   "execution_count": 66,
   "metadata": {
    "id": "-6ApENps1y-d",
    "tags": []
   },
   "outputs": [],
   "source": [
    "# # Test Set Hyperparameters\n",
    "# gt = CNN(in_channels=1, expected_shape=(28, 28), n_hidden=(16, 32, 32, 16), act=nn.GELU)\n",
    "# # For testing: (16, 32, 32, 16)\n",
    "# # For more capacity (for example): (64, 128, 256, 128, 64)\n",
    "# ddpm = DDPM(gt=gt, betas=(1e-4, 0.02), n_T=1000)\n",
    "# optim = torch.optim.Adam(ddpm.parameters(), lr=2e-4)\n",
    "\n",
    "# # Set of Hyperparam 2: \n",
    "# # Adjusting the CNN model to increase the depth and modify the width according to Set 1\n",
    "# # Increase the depth by adding more layers and adjust the width by changing the number of channels\n",
    "# gt = CNN(in_channels=1, expected_shape=(28, 28), n_hidden=(32, 64, 128, 64, 32), act=nn.LeakyReLU)\n",
    "\n",
    "# # Adjusting the DDPM model parameters to match the Set 2 specifications\n",
    "# ddpm = DDPM(gt=gt, betas=(0.001,  0.015), n_T=1000)\n",
    "\n",
    "# # Setting the optimizer with a lower learning rate as specified in Set 2\n",
    "# optim = torch.optim.Adam(ddpm.parameters(), lr= 0.0005)\n",
    "\n",
    "#Set of Hyperparam 3\n",
    "# Adjusting the CNN model to find a balance between capacity and efficiency\n",
    "gt = CNN(in_channels=1, expected_shape=(28, 28), n_hidden=(64, 96, 96, 64), act=nn.ELU)\n",
    "# The choice of n_hidden aims for a middle ground in model complexity, potentially offering good generalization without excessive computation.\n",
    "# ELU is selected for the activation function, which can help avoid dead neurons and offers smoother gradients than ReLU and LeakyReLU.\n",
    "\n",
    "# Adjusting the DDPM model parameters to explore a balanced noise schedule\n",
    "ddpm = DDPM(gt=gt, betas=(0.0005,  0.02), n_T=1000)\n",
    "# A starting beta of 0.0005 with an end of 0.02 proposes a gradual but not too aggressive noise introduction.\n",
    "\n",
    "# Setting the optimizer with a moderate learning rate, aiming for a balance between convergence speed and stability\n",
    "optim = torch.optim.Adam(ddpm.parameters(), lr=0.0003)\n",
    "# A learning rate of 0.0003 is chosen to potentially offer a better balance between rapid convergence and the risk of overshooting minima.\n",
    "\n"
   ]
  },
  {
   "cell_type": "markdown",
   "metadata": {
    "id": "RqCXgF6-KNtE"
   },
   "source": [
    "We could set up a GPU if we have one, which is done below.\n",
    "\n",
    "Here, we use HuggingFace's `accelerate` library, which abstracts away all the `.to(device)` calls for us.\n",
    "This lets us focus on the model itself rather than data movement.\n",
    "It also does a few other tricks to speed up calculations.\n",
    "\n",
    "PyTorch Lightning, which we discussed during the course, is another option that also handles a lot more, but is a bit heavyweight.\n",
    "`accelerate` is a simpler option closer to raw PyTorch.\n",
    "However, if you prefer, you could choose to use Lightning for the coursework!"
   ]
  },
  {
   "cell_type": "code",
   "execution_count": 67,
   "metadata": {
    "id": "r6198HmKKNtE",
    "tags": []
   },
   "outputs": [
    {
     "name": "stderr",
     "output_type": "stream",
     "text": [
      "Detected kernel version 4.14.336, which is below the recommended minimum of 5.5.0; this can cause the process to hang. It is recommended to upgrade the kernel to the minimum version or higher.\n"
     ]
    }
   ],
   "source": [
    "accelerator = Accelerator()\n",
    "\n",
    "# We wrap our model, optimizer, and dataloaders with `accelerator.prepare`,\n",
    "# which lets HuggingFace's Accelerate handle the device placement and gradient accumulation.\n",
    "ddpm, optim, dataloader = accelerator.prepare(ddpm, optim, dataloader)"
   ]
  },
  {
   "cell_type": "markdown",
   "metadata": {
    "id": "5PJkLXPmKNtE"
   },
   "source": [
    "First, let's just make sure this works:"
   ]
  },
  {
   "cell_type": "code",
   "execution_count": 68,
   "metadata": {
    "id": "8wxKbzEa1y-e",
    "tags": []
   },
   "outputs": [],
   "source": [
    "for x, _ in dataloader:\n",
    "    break\n",
    "\n",
    "with torch.no_grad():\n",
    "    ddpm(x)"
   ]
  },
  {
   "cell_type": "markdown",
   "metadata": {
    "id": "Jyn-wFxtKNtE"
   },
   "source": [
    "Now, let's train it. You can exit early by interrupting the kernel. Images\n",
    "are saved to the `contents` folder."
   ]
  },
  {
   "cell_type": "code",
   "execution_count": 12,
   "metadata": {
    "colab": {
     "base_uri": "https://localhost:8080/"
    },
    "id": "LLiE8x-c1y-e",
    "outputId": "1014d7a8-3f07-4f2d-b6a9-12dc032649e7"
   },
   "outputs": [
    {
     "name": "stderr",
     "output_type": "stream",
     "text": [
      "loss: 0.0838: 100%|██████████| 468/468 [00:59<00:00,  7.83it/s]\n",
      "loss: 0.0567: 100%|██████████| 468/468 [00:59<00:00,  7.83it/s]\n",
      "loss: 0.046: 100%|██████████| 468/468 [00:59<00:00,  7.82it/s] \n",
      "loss: 0.0401: 100%|██████████| 468/468 [00:59<00:00,  7.82it/s]\n",
      "loss: 0.0363: 100%|██████████| 468/468 [00:59<00:00,  7.82it/s]\n",
      "loss: 0.0336: 100%|██████████| 468/468 [00:59<00:00,  7.81it/s]\n",
      "loss: 0.0316: 100%|██████████| 468/468 [00:59<00:00,  7.81it/s]\n",
      "loss: 0.03: 100%|██████████| 468/468 [00:59<00:00,  7.80it/s]  \n",
      "loss: 0.0288: 100%|██████████| 468/468 [00:59<00:00,  7.80it/s]\n",
      "loss: 0.0278: 100%|██████████| 468/468 [00:59<00:00,  7.81it/s]\n",
      "loss: 0.0269: 100%|██████████| 468/468 [01:00<00:00,  7.78it/s]\n",
      "loss: 0.0261: 100%|██████████| 468/468 [01:00<00:00,  7.79it/s]\n",
      "loss: 0.0255: 100%|██████████| 468/468 [01:00<00:00,  7.80it/s]\n",
      "loss: 0.0249: 100%|██████████| 468/468 [01:00<00:00,  7.79it/s]\n",
      "loss: 0.0244: 100%|██████████| 468/468 [01:00<00:00,  7.78it/s]\n",
      "loss: 0.024: 100%|██████████| 468/468 [01:00<00:00,  7.79it/s] \n",
      "loss: 0.0236: 100%|██████████| 468/468 [01:00<00:00,  7.80it/s]\n",
      "loss: 0.0232: 100%|██████████| 468/468 [01:00<00:00,  7.80it/s]\n",
      "loss: 0.0229: 100%|██████████| 468/468 [01:00<00:00,  7.79it/s]\n",
      "loss: 0.0226: 100%|██████████| 468/468 [01:00<00:00,  7.79it/s]\n",
      "loss: 0.0223: 100%|██████████| 468/468 [01:00<00:00,  7.78it/s]\n",
      "loss: 0.0221: 100%|██████████| 468/468 [01:00<00:00,  7.79it/s]\n",
      "loss: 0.0218: 100%|██████████| 468/468 [01:00<00:00,  7.78it/s]\n",
      "loss: 0.0216: 100%|██████████| 468/468 [01:00<00:00,  7.79it/s]\n",
      "loss: 0.0214: 100%|██████████| 468/468 [01:00<00:00,  7.78it/s]\n",
      "loss: 0.0212: 100%|██████████| 468/468 [01:00<00:00,  7.78it/s]\n",
      "loss: 0.021: 100%|██████████| 468/468 [01:00<00:00,  7.78it/s] \n",
      "loss: 0.0208: 100%|██████████| 468/468 [01:00<00:00,  7.78it/s]\n",
      "loss: 0.0206: 100%|██████████| 468/468 [01:00<00:00,  7.78it/s]\n",
      "loss: 0.0205: 100%|██████████| 468/468 [01:00<00:00,  7.77it/s]\n",
      "loss: 0.0204: 100%|██████████| 468/468 [01:00<00:00,  7.78it/s]\n",
      "loss: 0.0202: 100%|██████████| 468/468 [01:00<00:00,  7.77it/s]\n",
      "loss: 0.0201: 100%|██████████| 468/468 [01:00<00:00,  7.78it/s]\n",
      "loss: 0.02: 100%|██████████| 468/468 [01:00<00:00,  7.78it/s]  \n",
      "loss: 0.0198: 100%|██████████| 468/468 [01:00<00:00,  7.77it/s]\n",
      "loss: 0.0197: 100%|██████████| 468/468 [01:00<00:00,  7.76it/s]\n",
      "loss: 0.0196: 100%|██████████| 468/468 [01:00<00:00,  7.78it/s]\n",
      "loss: 0.0195: 100%|██████████| 468/468 [01:00<00:00,  7.74it/s]\n",
      "loss: 0.0194: 100%|██████████| 468/468 [01:00<00:00,  7.77it/s]\n",
      "loss: 0.0193: 100%|██████████| 468/468 [01:00<00:00,  7.76it/s]\n",
      "loss: 0.0192: 100%|██████████| 468/468 [01:00<00:00,  7.75it/s]\n",
      "loss: 0.0191: 100%|██████████| 468/468 [01:00<00:00,  7.76it/s]\n",
      "loss: 0.019: 100%|██████████| 468/468 [01:00<00:00,  7.76it/s] \n",
      "loss: 0.019: 100%|██████████| 468/468 [01:00<00:00,  7.76it/s]\n",
      "loss: 0.0189: 100%|██████████| 468/468 [01:00<00:00,  7.75it/s]\n",
      "loss: 0.0188: 100%|██████████| 468/468 [01:00<00:00,  7.73it/s]\n",
      "loss: 0.0187: 100%|██████████| 468/468 [01:00<00:00,  7.75it/s]\n",
      "loss: 0.0187: 100%|██████████| 468/468 [01:00<00:00,  7.75it/s]\n",
      "loss: 0.0186: 100%|██████████| 468/468 [01:00<00:00,  7.75it/s]\n",
      "loss: 0.0185: 100%|██████████| 468/468 [01:00<00:00,  7.75it/s]\n",
      "loss: 0.0185: 100%|██████████| 468/468 [01:00<00:00,  7.73it/s]\n",
      "loss: 0.0184: 100%|██████████| 468/468 [01:00<00:00,  7.73it/s]\n",
      "loss: 0.0183: 100%|██████████| 468/468 [01:00<00:00,  7.73it/s]\n",
      "loss: 0.0183: 100%|██████████| 468/468 [01:00<00:00,  7.74it/s]\n",
      "loss: 0.0182: 100%|██████████| 468/468 [01:00<00:00,  7.74it/s]\n",
      "loss: 0.0182: 100%|██████████| 468/468 [01:00<00:00,  7.73it/s]\n",
      "loss: 0.0181: 100%|██████████| 468/468 [01:00<00:00,  7.72it/s]\n",
      "loss: 0.0181: 100%|██████████| 468/468 [01:00<00:00,  7.73it/s]\n",
      "loss: 0.018: 100%|██████████| 468/468 [01:00<00:00,  7.72it/s]\n",
      "loss: 0.018: 100%|██████████| 468/468 [01:00<00:00,  7.72it/s]\n",
      "loss: 0.0179: 100%|██████████| 468/468 [01:00<00:00,  7.73it/s]\n",
      "loss: 0.0179: 100%|██████████| 468/468 [01:00<00:00,  7.72it/s]\n",
      "loss: 0.0178: 100%|██████████| 468/468 [01:00<00:00,  7.73it/s]\n",
      "loss: 0.0178: 100%|██████████| 468/468 [01:00<00:00,  7.70it/s]\n",
      "loss: 0.0177: 100%|██████████| 468/468 [01:00<00:00,  7.71it/s]\n",
      "loss: 0.0177: 100%|██████████| 468/468 [01:00<00:00,  7.72it/s]\n",
      "loss: 0.0176: 100%|██████████| 468/468 [01:00<00:00,  7.72it/s]\n",
      "loss: 0.0176: 100%|██████████| 468/468 [01:00<00:00,  7.72it/s]\n",
      "loss: 0.0176: 100%|██████████| 468/468 [01:00<00:00,  7.71it/s]\n",
      "loss: 0.0175: 100%|██████████| 468/468 [01:00<00:00,  7.71it/s]\n",
      "loss: 0.0175: 100%|██████████| 468/468 [01:00<00:00,  7.71it/s]\n",
      "loss: 0.0174: 100%|██████████| 468/468 [01:00<00:00,  7.71it/s]\n",
      "loss: 0.0174: 100%|██████████| 468/468 [01:00<00:00,  7.71it/s]\n",
      "loss: 0.0174: 100%|██████████| 468/468 [01:00<00:00,  7.70it/s]\n",
      "loss: 0.0173: 100%|██████████| 468/468 [01:00<00:00,  7.70it/s]\n",
      "loss: 0.0173: 100%|██████████| 468/468 [01:00<00:00,  7.70it/s]\n",
      "loss: 0.0173: 100%|██████████| 468/468 [01:00<00:00,  7.69it/s]\n",
      "loss: 0.0172: 100%|██████████| 468/468 [01:00<00:00,  7.69it/s]\n",
      "loss: 0.0172: 100%|██████████| 468/468 [01:00<00:00,  7.70it/s]\n",
      "loss: 0.0172: 100%|██████████| 468/468 [01:00<00:00,  7.69it/s]\n",
      "loss: 0.0171: 100%|██████████| 468/468 [01:00<00:00,  7.70it/s]\n",
      "loss: 0.0171: 100%|██████████| 468/468 [01:00<00:00,  7.70it/s]\n",
      "loss: 0.0171: 100%|██████████| 468/468 [01:00<00:00,  7.70it/s]\n",
      "loss: 0.0171: 100%|██████████| 468/468 [01:00<00:00,  7.70it/s]\n",
      "loss: 0.017: 100%|██████████| 468/468 [01:00<00:00,  7.69it/s] \n",
      "loss: 0.017: 100%|██████████| 468/468 [01:00<00:00,  7.69it/s]\n",
      "loss: 0.017: 100%|██████████| 468/468 [01:00<00:00,  7.68it/s]\n",
      "loss: 0.0169: 100%|██████████| 468/468 [01:00<00:00,  7.69it/s]\n",
      "loss: 0.0169: 100%|██████████| 468/468 [01:00<00:00,  7.67it/s]\n",
      "loss: 0.0169: 100%|██████████| 468/468 [01:00<00:00,  7.69it/s]\n",
      "loss: 0.0169: 100%|██████████| 468/468 [01:00<00:00,  7.68it/s]\n",
      "loss: 0.0168: 100%|██████████| 468/468 [01:00<00:00,  7.68it/s]\n",
      "loss: 0.0168: 100%|██████████| 468/468 [01:01<00:00,  7.67it/s]\n",
      "loss: 0.0168: 100%|██████████| 468/468 [01:00<00:00,  7.68it/s]\n",
      "loss: 0.0168: 100%|██████████| 468/468 [01:01<00:00,  7.67it/s]\n",
      "loss: 0.0167: 100%|██████████| 468/468 [01:00<00:00,  7.67it/s]\n",
      "loss: 0.0167: 100%|██████████| 468/468 [01:01<00:00,  7.67it/s]\n",
      "loss: 0.0167: 100%|██████████| 468/468 [01:00<00:00,  7.67it/s]\n",
      "loss: 0.0167: 100%|██████████| 468/468 [01:01<00:00,  7.66it/s]\n",
      "loss: 0.0167: 100%|██████████| 468/468 [01:01<00:00,  7.67it/s]\n"
     ]
    }
   ],
   "source": [
    "n_epoch = 100\n",
    "losses = []\n",
    "\n",
    "for i in range(n_epoch):\n",
    "    ddpm.train()\n",
    "\n",
    "    pbar = tqdm(dataloader)  # Wrap our loop with a visual progress bar\n",
    "    for x, _ in pbar:\n",
    "        optim.zero_grad()\n",
    "\n",
    "        loss = ddpm(x)\n",
    "\n",
    "        # loss.backward()\n",
    "        accelerator.backward(loss)\n",
    "        # ^Technically should be `accelerator.backward(loss)` but not necessary for local training\n",
    "\n",
    "        losses.append(loss.item())\n",
    "        avg_loss = np.average(losses[min(len(losses)-100, 0):])\n",
    "        pbar.set_description(f\"loss: {avg_loss:.3g}\")  # Show running average of loss in progress bar\n",
    "\n",
    "        optim.step()\n",
    "\n",
    "    ddpm.eval()\n",
    "    with torch.no_grad():\n",
    "        xh = ddpm.sample(16, (1, 28, 28), accelerator.device)  # Can get device explicitly with `accelerator.device`\n",
    "        grid = make_grid(xh, nrow=4)\n",
    "\n",
    "        # Save samples to `./contents` directory\n",
    "        save_image(grid, f\"./contents/ddpm_sample_{i:04d}.png\")\n",
    "\n",
    "        # save model\n",
    "        torch.save(ddpm.state_dict(), f\"./ddpm_mnist.pth\")\n",
    "        torch.save(losses, \"./ddpm_losses.pt\")\n",
    "\n",
    "\n"
   ]
  },
  {
   "cell_type": "code",
   "execution_count": 13,
   "metadata": {
    "tags": []
   },
   "outputs": [],
   "source": [
    "# torch.save(dataset, \"MNIST_dataset.pth\")\n"
   ]
  },
  {
   "cell_type": "code",
   "execution_count": 69,
   "metadata": {
    "colab": {
     "base_uri": "https://localhost:8080/",
     "height": 927
    },
    "id": "qtPj9DX_KNtF",
    "outputId": "48f44f15-e679-4497-8a19-112ceeb411d0",
    "tags": []
   },
   "outputs": [
    {
     "data": {
      "image/png": "[encoded data removed]",
      "text/plain": [
       "<Figure size 640x480 with 1 Axes>"
      ]
     },
     "metadata": {},
     "output_type": "display_data"
    },
    {
     "data": {
      "image/png": "[encoded data removed]",
      "text/plain": [
       "<Figure size 640x480 with 1 Axes>"
      ]
     },
     "metadata": {},
     "output_type": "display_data"
    }
   ],
   "source": [
    "import matplotlib.pyplot as plt\n",
    "ddpm.load_state_dict(torch.load('hyperparams_set3.pth', map_location=torch.device(device)))\n",
    "losses = torch.load('hyperparams_set3_losses.pt', map_location=torch.device(device))\n",
    "epoch_losses = []\n",
    "for i in range(0, len(losses), 467):\n",
    "    # print(losses[i])\n",
    "    epoch_losses.append(losses[i])\n",
    "\n",
    "\n",
    "plt.plot(losses)\n",
    "plt.xlabel('Iteration')\n",
    "plt.ylabel('Loss')\n",
    "plt.title('Loss Curve')\n",
    "plt.show()\n",
    "\n",
    "plt.plot(epoch_losses)\n",
    "plt.xlabel('Epoch')\n",
    "plt.ylabel('Loss')\n",
    "plt.title('Loss Curve')\n",
    "plt.show()"
   ]
  },
  {
   "cell_type": "code",
   "execution_count": 70,
   "metadata": {
    "colab": {
     "base_uri": "https://localhost:8080/"
    },
    "id": "5mQBvgXyWNyb",
    "outputId": "da3c946a-0804-43cd-ebe0-183823ec1b1e",
    "tags": []
   },
   "outputs": [
    {
     "name": "stdout",
     "output_type": "stream",
     "text": [
      "Custom_deg_MNIST.ipynb          \u001b[0m\u001b[01;34mdata\u001b[0m/\n",
      "bansal_2022.pdf                 ho_2020.pdf\n",
      "\u001b[01;34mcontents\u001b[0m/                       hyperparam_set2.pth\n",
      "\u001b[01;34mcontents_custom_only_contrast\u001b[0m/  hyperparam_set2_losses.pt\n",
      "\u001b[01;34mcontents_hyperparam_set2\u001b[0m/       hyperparams_set3.pth\n",
      "\u001b[01;34mcontents_hyperparms_set3\u001b[0m/       hyperparams_set3_losses.pt\n",
      "\u001b[01;34mcontents_starter\u001b[0m/               mask_contrast.pth\n",
      "coursework.pdf                  mask_contrast_losses.pt\n",
      "coursework_MNIST.ipynb          requirements.txt\n",
      "coursework_starter.ipynb        starter.pth\n",
      "custom_losses.pt                starter_losses.pt\n",
      "custom_mnist.pth                weng_2021.pdf\n"
     ]
    }
   ],
   "source": [
    "ls"
   ]
  },
  {
   "cell_type": "code",
   "execution_count": 75,
   "metadata": {
    "id": "lN-GpJGjKNtF",
    "tags": []
   },
   "outputs": [],
   "source": [
    "import torch.nn.functional as F\n",
    "from torchvision.datasets import ImageFolder\n",
    "import torch\n",
    "from torchvision.models import inception_v3\n",
    "from torchvision.transforms import ToTensor\n",
    "device = torch.device(\"cuda:0\" if torch.cuda.is_available() else \"cpu\")\n",
    "\n",
    "ddpm.to(device)\n",
    "ddpm.load_state_dict(torch.load('hyperparams_set3.pth', map_location=torch.device(device)))\n",
    "ddpm.eval() #put it in eval mode\n",
    "with torch.no_grad(): # Making sure, since it is not needed\n",
    "        generated_dataset= ddpm.sample(128, (1, 28, 28), device)\n",
    "        # Should be a large number of samples to calculte the inception score\n",
    "        # Same number as the batch size for MNIST dataloader\n",
    "\n",
    "\n",
    "\n"
   ]
  },
  {
   "cell_type": "code",
   "execution_count": 76,
   "metadata": {
    "colab": {
     "base_uri": "https://localhost:8080/"
    },
    "id": "xdGx3ZC2blTx",
    "outputId": "0134a6ac-c932-478d-fc80-962ca4747733",
    "tags": []
   },
   "outputs": [
    {
     "name": "stdout",
     "output_type": "stream",
     "text": [
      "torch.Size([128, 1, 28, 28])\n"
     ]
    }
   ],
   "source": [
    "print(generated_dataset.shape)"
   ]
  },
  {
   "cell_type": "code",
   "execution_count": 77,
   "metadata": {
    "colab": {
     "base_uri": "https://localhost:8080/"
    },
    "id": "3ituvLPgXDsi",
    "outputId": "37e8459a-0339-4a94-890b-bcc99ad814d7",
    "tags": []
   },
   "outputs": [
    {
     "name": "stdout",
     "output_type": "stream",
     "text": [
      "torch.Size([128, 3, 299, 299])\n",
      "128\n",
      "torch.Size([128, 1000])\n",
      "Inception Score: 1.8137996196746826\n"
     ]
    }
   ],
   "source": [
    "import torch\n",
    "import torch.nn.functional as F\n",
    "from torchvision.models import inception_v3\n",
    "from torchvision.transforms import functional as TF\n",
    "\n",
    "def calculate_inception_score(generated_images):\n",
    "    # Initialize the Inception model\n",
    "    inception_model = inception_v3(weights=True)\n",
    "    inception_model.eval()\n",
    "\n",
    "    # Resize and convert 1-channel images to 3-channel images\n",
    "    processed_images = []\n",
    "    for img in generated_images:\n",
    "        # Resize image to 299x299\n",
    "        resized_img = TF.resize(img, size=(299, 299))\n",
    "        # Convert grayscale to RGB by repeating the grayscale channel 3 times\n",
    "        rgb_img = resized_img.repeat(1, 3, 1, 1)\n",
    "        processed_images.append(rgb_img)\n",
    "\n",
    "    # Stack all processed images into a single tensor\n",
    "    preprocessed_images = torch.cat(processed_images, dim=0)\n",
    "    print(preprocessed_images.shape)\n",
    "\n",
    "    print(len(processed_images))\n",
    "\n",
    "    # Pass the preprocessed images through the Inception model\n",
    "    with torch.no_grad():\n",
    "        logits = inception_model(preprocessed_images)\n",
    "\n",
    "    print(logits.shape)\n",
    "    # Calculate softmax probabilities\n",
    "    probabilities = F.softmax(logits, dim=1)\n",
    "    # Calculate the marginal distribution by averaging probabilities across all images\n",
    "    marginal = torch.mean(probabilities, dim=0)\n",
    "    # Calculate KL divergence for each image and then average\n",
    "    kl_div = probabilities * (torch.log(probabilities) - torch.log(marginal.unsqueeze(0)))\n",
    "    kl_div = kl_div.sum(dim=1)\n",
    "    mean_kl_div = torch.mean(kl_div)\n",
    "\n",
    "    # Compute the Inception Score\n",
    "    inception_score = torch.exp(mean_kl_div).item()\n",
    "\n",
    "    return inception_score\n",
    "inception_score = calculate_inception_score(generated_dataset.cpu())\n",
    "print(\"Inception Score:\", inception_score)"
   ]
  },
  {
   "cell_type": "code",
   "execution_count": 78,
   "metadata": {
    "colab": {
     "base_uri": "https://localhost:8080/"
    },
    "id": "9cslzXK7dPWA",
    "outputId": "65fc9f19-d15f-458a-fd4d-c2f1c4fd46c9",
    "tags": []
   },
   "outputs": [
    {
     "name": "stdout",
     "output_type": "stream",
     "text": [
      "MNIST dataset:  Dataset MNIST\n",
      "    Number of datapoints: 60000\n",
      "    Root location: ./data\n",
      "    Split: Train\n",
      "    StandardTransform\n",
      "Transform: Compose(\n",
      "               ToTensor()\n",
      "               Normalize(mean=(0.5,), std=1.0)\n",
      "           )\n",
      "MNIST dataloader:  <accelerate.data_loader.DataLoaderShard object at 0x7f34f3f26640>\n"
     ]
    }
   ],
   "source": [
    "print(\"MNIST dataset: \", dataset)\n",
    "print(\"MNIST dataloader: \", dataloader)"
   ]
  },
  {
   "cell_type": "code",
   "execution_count": 79,
   "metadata": {
    "colab": {
     "base_uri": "https://localhost:8080/"
    },
    "id": "rRNQGy2ressX",
    "outputId": "e13de187-87f2-4629-fc9a-12a62206dcbc",
    "tags": []
   },
   "outputs": [
    {
     "name": "stdout",
     "output_type": "stream",
     "text": [
      "FID Score: 69.33784409156895\n"
     ]
    }
   ],
   "source": [
    "import torch\n",
    "import numpy as np\n",
    "from torchvision.models import inception_v3\n",
    "from torchvision.transforms import functional as TF\n",
    "from scipy.linalg import sqrtm\n",
    "\n",
    "def calculate_fid(real_images, gen_images):\n",
    "    # Load the pretrained Inception v3 model\n",
    "    inception_model = inception_v3(weights=True)\n",
    "    inception_model.eval()\n",
    "    # Modify the model to return features from an intermediate layer\n",
    "    inception_model.fc = torch.nn.Identity()\n",
    "\n",
    "    def preprocess_and_extract_features(images):\n",
    "        processed_images = []\n",
    "        for img in images:\n",
    "            # Resize and convert 1-channel images to 3-channel images\n",
    "            resized_img = TF.resize(img, size=(299, 299))\n",
    "            rgb_img = resized_img.repeat(1, 3, 1, 1)\n",
    "            processed_images.append(rgb_img)\n",
    "\n",
    "        # Stack all processed images into a single tensor\n",
    "        preprocessed_images = torch.cat(processed_images, dim=0)\n",
    "\n",
    "        # Extract features\n",
    "        with torch.no_grad():\n",
    "            features = inception_model(preprocessed_images)\n",
    "        return features.cpu().numpy()\n",
    "\n",
    "    # Preprocess and extract features for real and generated images\n",
    "    real_features = preprocess_and_extract_features(real_images)\n",
    "    gen_features = preprocess_and_extract_features(gen_images)\n",
    "\n",
    "    # Calculate mean and covariance of features\n",
    "    mu_real, sigma_real = np.mean(real_features, axis=0), np.cov(real_features, rowvar=False)\n",
    "    mu_gen, sigma_gen = np.mean(gen_features, axis=0), np.cov(gen_features, rowvar=False)\n",
    "\n",
    "    # Calculate the FID score\n",
    "    ssdiff = np.sum((mu_real - mu_gen) ** 2.0)\n",
    "    covmean = sqrtm(sigma_real.dot(sigma_gen))\n",
    "\n",
    "    # Check for imaginary numbers in covmean and eliminate them\n",
    "    if np.iscomplexobj(covmean):\n",
    "        covmean = covmean.real\n",
    "\n",
    "    fid = ssdiff + np.trace(sigma_real + sigma_gen - 2.0 * covmean)\n",
    "\n",
    "    return fid\n",
    "images, _ = next(iter(dataloader))\n",
    "fid_score = calculate_fid(images.cpu(),generated_dataset.cpu())\n",
    "print(\"FID Score:\", fid_score)\n"
   ]
  },
  {
   "cell_type": "code",
   "execution_count": 80,
   "metadata": {
    "tags": []
   },
   "outputs": [
    {
     "name": "stdout",
     "output_type": "stream",
     "text": [
      "Negative Log Likelihood: -1.1510024070739746\n",
      "Negative Log Likelihood (bits/dim): -1.6605454601739777\n"
     ]
    }
   ],
   "source": [
    "# Calculate the negative log likelihood\n",
    "losses = torch.Tensor(losses)\n",
    "nll = torch.mean(torch.log(torch.sqrt(2 * torch.tensor(np.pi))) + 0.5 * torch.log(losses))\n",
    "\n",
    "print(\"Negative Log Likelihood:\", nll.item())\n",
    "# Calculate the negative log likelihood bits per dim\n",
    "\n",
    "bits_per_dim = nll.item() / (torch.log(torch.tensor(2)).item())\n",
    "\n",
    "print(\"Negative Log Likelihood (bits/dim):\", bits_per_dim)"
   ]
  },
  {
   "cell_type": "code",
   "execution_count": 81,
   "metadata": {
    "tags": []
   },
   "outputs": [
    {
     "name": "stdout",
     "output_type": "stream",
     "text": [
      "Requirement already satisfied: torch-fidelity in /opt/conda/envs/sagemaker-distribution/lib/python3.8/site-packages (0.3.0)\n",
      "Requirement already satisfied: numpy in /opt/conda/envs/sagemaker-distribution/lib/python3.8/site-packages (from torch-fidelity) (1.24.4)\n",
      "Requirement already satisfied: Pillow in /opt/conda/envs/sagemaker-distribution/lib/python3.8/site-packages (from torch-fidelity) (10.0.0)\n",
      "Requirement already satisfied: scipy in /opt/conda/envs/sagemaker-distribution/lib/python3.8/site-packages (from torch-fidelity) (1.10.1)\n",
      "Requirement already satisfied: torch in /opt/conda/envs/sagemaker-distribution/lib/python3.8/site-packages (from torch-fidelity) (2.0.0.post200)\n",
      "Requirement already satisfied: torchvision in /opt/conda/envs/sagemaker-distribution/lib/python3.8/site-packages (from torch-fidelity) (0.15.2a0+072ec57)\n",
      "Requirement already satisfied: tqdm in /opt/conda/envs/sagemaker-distribution/lib/python3.8/site-packages (from torch-fidelity) (4.65.0)\n",
      "Requirement already satisfied: filelock in /opt/conda/envs/sagemaker-distribution/lib/python3.8/site-packages (from torch->torch-fidelity) (3.12.2)\n",
      "Requirement already satisfied: typing-extensions in /opt/conda/envs/sagemaker-distribution/lib/python3.8/site-packages (from torch->torch-fidelity) (4.5.0)\n",
      "Requirement already satisfied: sympy in /opt/conda/envs/sagemaker-distribution/lib/python3.8/site-packages (from torch->torch-fidelity) (1.12)\n",
      "Requirement already satisfied: networkx in /opt/conda/envs/sagemaker-distribution/lib/python3.8/site-packages (from torch->torch-fidelity) (3.1)\n",
      "Requirement already satisfied: jinja2 in /opt/conda/envs/sagemaker-distribution/lib/python3.8/site-packages (from torch->torch-fidelity) (3.1.2)\n",
      "Requirement already satisfied: requests in /opt/conda/envs/sagemaker-distribution/lib/python3.8/site-packages (from torchvision->torch-fidelity) (2.31.0)\n",
      "Requirement already satisfied: MarkupSafe>=2.0 in /opt/conda/envs/sagemaker-distribution/lib/python3.8/site-packages (from jinja2->torch->torch-fidelity) (2.1.3)\n",
      "Requirement already satisfied: charset-normalizer<4,>=2 in /opt/conda/envs/sagemaker-distribution/lib/python3.8/site-packages (from requests->torchvision->torch-fidelity) (3.2.0)\n",
      "Requirement already satisfied: idna<4,>=2.5 in /opt/conda/envs/sagemaker-distribution/lib/python3.8/site-packages (from requests->torchvision->torch-fidelity) (3.4)\n",
      "Requirement already satisfied: urllib3<3,>=1.21.1 in /opt/conda/envs/sagemaker-distribution/lib/python3.8/site-packages (from requests->torchvision->torch-fidelity) (1.26.15)\n",
      "Requirement already satisfied: certifi>=2017.4.17 in /opt/conda/envs/sagemaker-distribution/lib/python3.8/site-packages (from requests->torchvision->torch-fidelity) (2023.7.22)\n",
      "Requirement already satisfied: mpmath>=0.19 in /opt/conda/envs/sagemaker-distribution/lib/python3.8/site-packages (from sympy->torch->torch-fidelity) (1.3.0)\n"
     ]
    }
   ],
   "source": [
    "# !pip install torchmetrics \n",
    "!pip install torch-fidelity\n",
    "# !pip install torchmetrics[image]"
   ]
  },
  {
   "cell_type": "code",
   "execution_count": 82,
   "metadata": {
    "tags": []
   },
   "outputs": [
    {
     "data": {
      "text/plain": [
       "tensor(-2.4785e-12)"
      ]
     },
     "execution_count": 82,
     "metadata": {},
     "output_type": "execute_result"
    }
   ],
   "source": [
    "from torchmetrics.image.fid import FrechetInceptionDistance\n",
    "\n",
    "# 'dataloader' is the DataLoader for MNIST\n",
    "real_mnist, _ = next(iter(dataloader))\n",
    "\n",
    "# If necessary, move to the same device as your generated images\n",
    "real_mnist = real_mnist.to(device)\n",
    "\n",
    "# Now `real_images` and `generated_images`\n",
    "# should be directly comparable and ready for FID calculation.\n",
    "# real_images and generated_images should be PyTorch tensors of shape [N, C, H, W]\n",
    "# where N is the number of images, C is the number of channels (1 for MNIST),\n",
    "# and H, W are the image height and width (28x28 for MNIST).\n",
    "# Preprocess the tensors from the original dataset\n",
    "# Resize and convert 1-channel images to 3-channel images\n",
    "processed_mnist = []\n",
    "for mnist in real_mnist:\n",
    "    # Resize image to 299x299\n",
    "    resized_mnist = TF.resize(mnist, size=(299, 299))\n",
    "    # Convert grayscale to RGB by repeating the grayscale channel 3 times\n",
    "    rgb_mnist = resized_mnist.repeat(1, 3, 1, 1)\n",
    "    processed_mnist.append(rgb_mnist)\n",
    "# Stack all processed images into a single tensor\n",
    "real_images = torch.cat(processed_mnist, dim=0)\n",
    "processed_imgs = []\n",
    "for img in generated_dataset:\n",
    "    resized_img = TF.resize(img, size=(299, 299))\n",
    "    # Convert grayscale to RGB by repeating the grayscale channel 3 times\n",
    "    rgb_img = resized_img.repeat(1, 3, 1, 1)\n",
    "    processed_imgs.append(rgb_img)\n",
    "# Stack all processed images into a single tensor\n",
    "imgs = torch.cat(processed_imgs, dim=0)\n",
    "\n",
    "real_images, imgs = real_images.cpu(), imgs.cpu()\n",
    "\n",
    "fid = FrechetInceptionDistance(feature=2048)\n",
    "# generate two slightly overlapping image intensity distributions\n",
    "fid.update(real_images.to(dtype=torch.uint8), real=True)\n",
    "fid.update(imgs.to(dtype=torch.uint8), real=False)\n",
    "fid.compute()"
   ]
  },
  {
   "cell_type": "code",
   "execution_count": 83,
   "metadata": {
    "tags": []
   },
   "outputs": [
    {
     "data": {
      "text/plain": [
       "(tensor(1.), tensor(0.))"
      ]
     },
     "execution_count": 83,
     "metadata": {},
     "output_type": "execute_result"
    }
   ],
   "source": [
    "from torchmetrics.image.inception import InceptionScore\n",
    "inception = InceptionScore()\n",
    "inception.update(imgs.to(dtype=torch.uint8))\n",
    "inception.compute()"
   ]
  },
  {
   "cell_type": "code",
   "execution_count": 84,
   "metadata": {
    "tags": []
   },
   "outputs": [
    {
     "data": {
      "text/plain": [
       "tensor(-2.4785e-12)"
      ]
     },
     "execution_count": 84,
     "metadata": {},
     "output_type": "execute_result"
    }
   ],
   "source": [
    "from torchmetrics.image.fid import FrechetInceptionDistance\n",
    "fid = FrechetInceptionDistance(feature=2048)\n",
    "# generate two slightly overlapping image intensity distributions\n",
    "fid.reset()\n",
    "fid.update(real_images.to(dtype=torch.uint8), real=True)\n",
    "fid.update(real_images.to(dtype=torch.uint8), real=False)\n",
    "fid.compute()"
   ]
  },
  {
   "cell_type": "code",
   "execution_count": 85,
   "metadata": {
    "tags": []
   },
   "outputs": [],
   "source": [
    "# Compute FID using bansal et al. functions\n",
    "# Inception and FID score calulated using functions from Bansal et al. 2022\n",
    "import torch\n",
    "import torch.nn as nn\n",
    "import torch.nn.functional as F\n",
    "import torchvision\n",
    "\n",
    "try:\n",
    "    from torchvision.models.utils import load_state_dict_from_url\n",
    "except ImportError:\n",
    "    from torch.utils.model_zoo import load_url as load_state_dict_from_url\n",
    "\n",
    "# Inception weights ported to Pytorch from\n",
    "# http://download.tensorflow.org/models/image/imagenet/inception-2015-12-05.tgz\n",
    "FID_WEIGHTS_URL = 'https://github.com/mseitzer/pytorch-fid/releases/download/fid_weights/pt_inception-2015-12-05-6726825d.pth'  # noqa: E501\n",
    "\n",
    "\n",
    "class InceptionV3(nn.Module):\n",
    "    \"\"\"Pretrained InceptionV3 network returning feature maps\"\"\"\n",
    "\n",
    "    # Index of default block of inception to return,\n",
    "    # corresponds to output of final average pooling\n",
    "    DEFAULT_BLOCK_INDEX = 3\n",
    "\n",
    "    # Maps feature dimensionality to their output blocks indices\n",
    "    BLOCK_INDEX_BY_DIM = {\n",
    "        64: 0,   # First max pooling features\n",
    "        192: 1,  # Second max pooling featurs\n",
    "        768: 2,  # Pre-aux classifier features\n",
    "        2048: 3  # Final average pooling features\n",
    "    }\n",
    "\n",
    "    def __init__(self,\n",
    "                 output_blocks=(DEFAULT_BLOCK_INDEX,),\n",
    "                 resize_input=True,\n",
    "                 normalize_input=True,\n",
    "                 requires_grad=False,\n",
    "                 use_fid_inception=True):\n",
    "        \"\"\"Build pretrained InceptionV3\n",
    "\n",
    "        Parameters\n",
    "        ----------\n",
    "        output_blocks : list of int\n",
    "            Indices of blocks to return features of. Possible values are:\n",
    "                - 0: corresponds to output of first max pooling\n",
    "                - 1: corresponds to output of second max pooling\n",
    "                - 2: corresponds to output which is fed to aux classifier\n",
    "                - 3: corresponds to output of final average pooling\n",
    "        resize_input : bool\n",
    "            If true, bilinearly resizes input to width and height 299 before\n",
    "            feeding input to model. As the network without fully connected\n",
    "            layers is fully convolutional, it should be able to handle inputs\n",
    "            of arbitrary size, so resizing might not be strictly needed\n",
    "        normalize_input : bool\n",
    "            If true, scales the input from range (0, 1) to the range the\n",
    "            pretrained Inception network expects, namely (-1, 1)\n",
    "        requires_grad : bool\n",
    "            If true, parameters of the model require gradients. Possibly useful\n",
    "            for finetuning the network\n",
    "        use_fid_inception : bool\n",
    "            If true, uses the pretrained Inception model used in Tensorflow's\n",
    "            FID implementation. If false, uses the pretrained Inception model\n",
    "            available in torchvision. The FID Inception model has different\n",
    "            weights and a slightly different structure from torchvision's\n",
    "            Inception model. If you want to compute FID scores, you are\n",
    "            strongly advised to set this parameter to true to get comparable\n",
    "            results.\n",
    "        \"\"\"\n",
    "        super(InceptionV3, self).__init__()\n",
    "\n",
    "        self.resize_input = resize_input\n",
    "        self.normalize_input = normalize_input\n",
    "        self.output_blocks = sorted(output_blocks)\n",
    "        self.last_needed_block = max(output_blocks)\n",
    "\n",
    "        assert self.last_needed_block <= 3, \\\n",
    "            'Last possible output block index is 3'\n",
    "\n",
    "        self.blocks = nn.ModuleList()\n",
    "\n",
    "        if use_fid_inception:\n",
    "            inception = fid_inception_v3()\n",
    "        else:\n",
    "            inception = _inception_v3(pretrained=True)\n",
    "\n",
    "        # Block 0: input to maxpool1\n",
    "        block0 = [\n",
    "            inception.Conv2d_1a_3x3,\n",
    "            inception.Conv2d_2a_3x3,\n",
    "            inception.Conv2d_2b_3x3,\n",
    "            nn.MaxPool2d(kernel_size=3, stride=2)\n",
    "        ]\n",
    "        self.blocks.append(nn.Sequential(*block0))\n",
    "\n",
    "        # Block 1: maxpool1 to maxpool2\n",
    "        if self.last_needed_block >= 1:\n",
    "            block1 = [\n",
    "                inception.Conv2d_3b_1x1,\n",
    "                inception.Conv2d_4a_3x3,\n",
    "                nn.MaxPool2d(kernel_size=3, stride=2)\n",
    "            ]\n",
    "            self.blocks.append(nn.Sequential(*block1))\n",
    "\n",
    "        # Block 2: maxpool2 to aux classifier\n",
    "        if self.last_needed_block >= 2:\n",
    "            block2 = [\n",
    "                inception.Mixed_5b,\n",
    "                inception.Mixed_5c,\n",
    "                inception.Mixed_5d,\n",
    "                inception.Mixed_6a,\n",
    "                inception.Mixed_6b,\n",
    "                inception.Mixed_6c,\n",
    "                inception.Mixed_6d,\n",
    "                inception.Mixed_6e,\n",
    "            ]\n",
    "            self.blocks.append(nn.Sequential(*block2))\n",
    "\n",
    "        # Block 3: aux classifier to final avgpool\n",
    "        if self.last_needed_block >= 3:\n",
    "            block3 = [\n",
    "                inception.Mixed_7a,\n",
    "                inception.Mixed_7b,\n",
    "                inception.Mixed_7c,\n",
    "                nn.AdaptiveAvgPool2d(output_size=(1, 1))\n",
    "            ]\n",
    "            self.blocks.append(nn.Sequential(*block3))\n",
    "\n",
    "        for param in self.parameters():\n",
    "            param.requires_grad = requires_grad\n",
    "\n",
    "    def forward(self, inp):\n",
    "        \"\"\"Get Inception feature maps\n",
    "\n",
    "        Parameters\n",
    "        ----------\n",
    "        inp : torch.autograd.Variable\n",
    "            Input tensor of shape Bx3xHxW. Values are expected to be in\n",
    "            range (0, 1)\n",
    "\n",
    "        Returns\n",
    "        -------\n",
    "        List of torch.autograd.Variable, corresponding to the selected output\n",
    "        block, sorted ascending by index\n",
    "        \"\"\"\n",
    "        outp = []\n",
    "        x = inp\n",
    "\n",
    "        if self.resize_input:\n",
    "            x = F.interpolate(x,\n",
    "                              size=(299, 299),\n",
    "                              mode='bilinear',\n",
    "                              align_corners=False)\n",
    "\n",
    "        if self.normalize_input:\n",
    "            x = 2 * x - 1  # Scale from range (0, 1) to range (-1, 1)\n",
    "\n",
    "        for idx, block in enumerate(self.blocks):\n",
    "            x = block(x)\n",
    "            if idx in self.output_blocks:\n",
    "                outp.append(x)\n",
    "\n",
    "            if idx == self.last_needed_block:\n",
    "                break\n",
    "\n",
    "        return outp\n",
    "\n",
    "\n",
    "def _inception_v3(*args, **kwargs):\n",
    "    \"\"\"Wraps `torchvision.models.inception_v3`\n",
    "\n",
    "    Skips default weight inititialization if supported by torchvision version.\n",
    "    See https://github.com/mseitzer/pytorch-fid/issues/28.\n",
    "    \"\"\"\n",
    "    try:\n",
    "        version = tuple(map(int, torchvision.__version__.split('.')[:2]))\n",
    "    except ValueError:\n",
    "        # Just a caution against weird version strings\n",
    "        version = (0,)\n",
    "\n",
    "    if version >= (0, 6):\n",
    "        kwargs['init_weights'] = False\n",
    "\n",
    "    return torchvision.models.inception_v3(*args, **kwargs)\n",
    "\n",
    "\n",
    "def fid_inception_v3():\n",
    "    \"\"\"Build pretrained Inception model for FID computation\n",
    "\n",
    "    The Inception model for FID computation uses a different set of weights\n",
    "    and has a slightly different structure than torchvision's Inception.\n",
    "\n",
    "    This method first constructs torchvision's Inception and then patches the\n",
    "    necessary parts that are different in the FID Inception model.\n",
    "    \"\"\"\n",
    "    inception = _inception_v3(num_classes=1008,\n",
    "                              aux_logits=False,\n",
    "                              pretrained=False)\n",
    "    inception.Mixed_5b = FIDInceptionA(192, pool_features=32)\n",
    "    inception.Mixed_5c = FIDInceptionA(256, pool_features=64)\n",
    "    inception.Mixed_5d = FIDInceptionA(288, pool_features=64)\n",
    "    inception.Mixed_6b = FIDInceptionC(768, channels_7x7=128)\n",
    "    inception.Mixed_6c = FIDInceptionC(768, channels_7x7=160)\n",
    "    inception.Mixed_6d = FIDInceptionC(768, channels_7x7=160)\n",
    "    inception.Mixed_6e = FIDInceptionC(768, channels_7x7=192)\n",
    "    inception.Mixed_7b = FIDInceptionE_1(1280)\n",
    "    inception.Mixed_7c = FIDInceptionE_2(2048)\n",
    "\n",
    "    state_dict = load_state_dict_from_url(FID_WEIGHTS_URL, progress=True)\n",
    "    inception.load_state_dict(state_dict)\n",
    "    return inception\n",
    "\n",
    "\n",
    "class FIDInceptionA(torchvision.models.inception.InceptionA):\n",
    "    \"\"\"InceptionA block patched for FID computation\"\"\"\n",
    "    def __init__(self, in_channels, pool_features):\n",
    "        super(FIDInceptionA, self).__init__(in_channels, pool_features)\n",
    "\n",
    "    def forward(self, x):\n",
    "        branch1x1 = self.branch1x1(x)\n",
    "\n",
    "        branch5x5 = self.branch5x5_1(x)\n",
    "        branch5x5 = self.branch5x5_2(branch5x5)\n",
    "\n",
    "        branch3x3dbl = self.branch3x3dbl_1(x)\n",
    "        branch3x3dbl = self.branch3x3dbl_2(branch3x3dbl)\n",
    "        branch3x3dbl = self.branch3x3dbl_3(branch3x3dbl)\n",
    "\n",
    "        # Patch: Tensorflow's average pool does not use the padded zero's in\n",
    "        # its average calculation\n",
    "        branch_pool = F.avg_pool2d(x, kernel_size=3, stride=1, padding=1,\n",
    "                                   count_include_pad=False)\n",
    "        branch_pool = self.branch_pool(branch_pool)\n",
    "\n",
    "        outputs = [branch1x1, branch5x5, branch3x3dbl, branch_pool]\n",
    "        return torch.cat(outputs, 1)\n",
    "\n",
    "\n",
    "class FIDInceptionC(torchvision.models.inception.InceptionC):\n",
    "    \"\"\"InceptionC block patched for FID computation\"\"\"\n",
    "    def __init__(self, in_channels, channels_7x7):\n",
    "        super(FIDInceptionC, self).__init__(in_channels, channels_7x7)\n",
    "\n",
    "    def forward(self, x):\n",
    "        branch1x1 = self.branch1x1(x)\n",
    "\n",
    "        branch7x7 = self.branch7x7_1(x)\n",
    "        branch7x7 = self.branch7x7_2(branch7x7)\n",
    "        branch7x7 = self.branch7x7_3(branch7x7)\n",
    "\n",
    "        branch7x7dbl = self.branch7x7dbl_1(x)\n",
    "        branch7x7dbl = self.branch7x7dbl_2(branch7x7dbl)\n",
    "        branch7x7dbl = self.branch7x7dbl_3(branch7x7dbl)\n",
    "        branch7x7dbl = self.branch7x7dbl_4(branch7x7dbl)\n",
    "        branch7x7dbl = self.branch7x7dbl_5(branch7x7dbl)\n",
    "\n",
    "        # Patch: Tensorflow's average pool does not use the padded zero's in\n",
    "        # its average calculation\n",
    "        branch_pool = F.avg_pool2d(x, kernel_size=3, stride=1, padding=1,\n",
    "                                   count_include_pad=False)\n",
    "        branch_pool = self.branch_pool(branch_pool)\n",
    "\n",
    "        outputs = [branch1x1, branch7x7, branch7x7dbl, branch_pool]\n",
    "        return torch.cat(outputs, 1)\n",
    "\n",
    "\n",
    "class FIDInceptionE_1(torchvision.models.inception.InceptionE):\n",
    "    \"\"\"First InceptionE block patched for FID computation\"\"\"\n",
    "    def __init__(self, in_channels):\n",
    "        super(FIDInceptionE_1, self).__init__(in_channels)\n",
    "\n",
    "    def forward(self, x):\n",
    "        branch1x1 = self.branch1x1(x)\n",
    "\n",
    "        branch3x3 = self.branch3x3_1(x)\n",
    "        branch3x3 = [\n",
    "            self.branch3x3_2a(branch3x3),\n",
    "            self.branch3x3_2b(branch3x3),\n",
    "        ]\n",
    "        branch3x3 = torch.cat(branch3x3, 1)\n",
    "\n",
    "        branch3x3dbl = self.branch3x3dbl_1(x)\n",
    "        branch3x3dbl = self.branch3x3dbl_2(branch3x3dbl)\n",
    "        branch3x3dbl = [\n",
    "            self.branch3x3dbl_3a(branch3x3dbl),\n",
    "            self.branch3x3dbl_3b(branch3x3dbl),\n",
    "        ]\n",
    "        branch3x3dbl = torch.cat(branch3x3dbl, 1)\n",
    "\n",
    "        # Patch: Tensorflow's average pool does not use the padded zero's in\n",
    "        # its average calculation\n",
    "        branch_pool = F.avg_pool2d(x, kernel_size=3, stride=1, padding=1,\n",
    "                                   count_include_pad=False)\n",
    "        branch_pool = self.branch_pool(branch_pool)\n",
    "\n",
    "        outputs = [branch1x1, branch3x3, branch3x3dbl, branch_pool]\n",
    "        return torch.cat(outputs, 1)\n",
    "\n",
    "\n",
    "class FIDInceptionE_2(torchvision.models.inception.InceptionE):\n",
    "    \"\"\"Second InceptionE block patched for FID computation\"\"\"\n",
    "    def __init__(self, in_channels):\n",
    "        super(FIDInceptionE_2, self).__init__(in_channels)\n",
    "\n",
    "    def forward(self, x):\n",
    "        branch1x1 = self.branch1x1(x)\n",
    "\n",
    "        branch3x3 = self.branch3x3_1(x)\n",
    "        branch3x3 = [\n",
    "            self.branch3x3_2a(branch3x3),\n",
    "            self.branch3x3_2b(branch3x3),\n",
    "        ]\n",
    "        branch3x3 = torch.cat(branch3x3, 1)\n",
    "\n",
    "        branch3x3dbl = self.branch3x3dbl_1(x)\n",
    "        branch3x3dbl = self.branch3x3dbl_2(branch3x3dbl)\n",
    "        branch3x3dbl = [\n",
    "            self.branch3x3dbl_3a(branch3x3dbl),\n",
    "            self.branch3x3dbl_3b(branch3x3dbl),\n",
    "        ]\n",
    "        branch3x3dbl = torch.cat(branch3x3dbl, 1)\n",
    "\n",
    "        # Patch: The FID Inception model uses max pooling instead of average\n",
    "        # pooling. This is likely an error in this specific Inception\n",
    "        # implementation, as other Inception models use average pooling here\n",
    "        # (which matches the description in the paper).\n",
    "        branch_pool = F.max_pool2d(x, kernel_size=3, stride=1, padding=1)\n",
    "        branch_pool = self.branch_pool(branch_pool)\n",
    "\n",
    "        outputs = [branch1x1, branch3x3, branch3x3dbl, branch_pool]\n",
    "        return torch.cat(outputs, 1)"
   ]
  },
  {
   "cell_type": "code",
   "execution_count": 86,
   "metadata": {
    "tags": []
   },
   "outputs": [],
   "source": [
    "\n",
    "\"\"\"Calculates the Frechet Inception Distance (FID) to evalulate GANs\n",
    "\n",
    "The FID metric calculates the distance between two distributions of images.\n",
    "Typically, we have summary statistics (mean & covariance matrix) of one\n",
    "of these distributions, while the 2nd distribution is given by a GAN.\n",
    "\n",
    "When run as a stand-alone program, it compares the distribution of\n",
    "images that are stored as PNG/JPEG at a specified location with a\n",
    "distribution given by summary statistics (in pickle format).\n",
    "\n",
    "The FID is calculated by assuming that X_1 and X_2 are the activations of\n",
    "the pool_3 layer of the inception net for generated samples and real world\n",
    "samples respectively.\n",
    "\n",
    "See --help to see further details.\n",
    "\n",
    "Code apapted from https://github.com/bioinf-jku/TTUR to use PyTorch instead\n",
    "of Tensorflow\n",
    "\n",
    "Copyright 2018 Institute of Bioinformatics, JKU Linz\n",
    "\n",
    "Licensed under the Apache License, Version 2.0 (the \"License\");\n",
    "you may not use this file except in compliance with the License.\n",
    "You may obtain a copy of the License at\n",
    "\n",
    "   http://www.apache.org/licenses/LICENSE-2.0\n",
    "\n",
    "Unless required by applicable law or agreed to in writing, software\n",
    "distributed under the License is distributed on an \"AS IS\" BASIS,\n",
    "WITHOUT WARRANTIES OR CONDITIONS OF ANY KIND, either express or implied.\n",
    "See the License for the specific language governing permissions and\n",
    "limitations under the License.\n",
    "\"\"\"\n",
    "import os\n",
    "import pathlib\n",
    "from argparse import ArgumentDefaultsHelpFormatter, ArgumentParser\n",
    "\n",
    "import numpy as np\n",
    "import torch\n",
    "from torchvision.transforms import functional as TF\n",
    "from PIL import Image\n",
    "from scipy import linalg\n",
    "from torch.nn.functional import adaptive_avg_pool2d\n",
    "\n",
    "try:\n",
    "    from tqdm import tqdm\n",
    "except ImportError:\n",
    "    # If tqdm is not available, provide a mock version of it\n",
    "    def tqdm(x):\n",
    "        return x\n",
    "\n",
    "\n",
    "# parser = ArgumentParser(formatter_class=ArgumentDefaultsHelpFormatter)\n",
    "# parser.add_argument('--batch-size', type=int, default=50,\n",
    "#                     help='Batch size to use')\n",
    "# parser.add_argument('--num-workers', type=int,\n",
    "#                     help=('Number of processes to use for data loading. '\n",
    "#                           'Defaults to `min(8, num_cpus)`'))\n",
    "# parser.add_argument('--device', type=str, default=None,\n",
    "#                     help='Device to use. Like cuda, cuda:0 or cpu')\n",
    "# parser.add_argument('--dims', type=int, default=2048,\n",
    "#                     choices=list(InceptionV3.BLOCK_INDEX_BY_DIM),\n",
    "#                     help=('Dimensionality of Inception features to use. '\n",
    "#                           'By default, uses pool3 features'))\n",
    "# parser.add_argument('path', type=str, nargs=2,\n",
    "#                     help=('Paths to the generated images or '\n",
    "#                           'to .npz statistic files'))\n",
    "#\n",
    "IMAGE_EXTENSIONS = {'bmp', 'jpg', 'jpeg', 'pgm', 'png', 'ppm',\n",
    "                    'tif', 'tiff', 'webp'}\n",
    "\n",
    "\n",
    "class ImagePathDataset(torch.utils.data.Dataset):\n",
    "    def __init__(self, files, transforms=None):\n",
    "        self.files = files\n",
    "        self.transforms = transforms\n",
    "\n",
    "    def __len__(self):\n",
    "        return len(self.files)\n",
    "\n",
    "    def __getitem__(self, i):\n",
    "        path = self.files[i]\n",
    "        img = Image.open(path).convert('RGB')\n",
    "        if self.transforms is not None:\n",
    "            img = self.transforms(img)\n",
    "        return img\n",
    "\n",
    "\n",
    "\n",
    "\n",
    "def get_activations(samples, model, batch_size=50, dims=2048, device='cpu',\n",
    "                    num_workers=1):\n",
    "    \"\"\"Calculates the activations of the pool_3 layer for all images.\n",
    "\n",
    "    Params:\n",
    "    -- files       : List of image files paths\n",
    "    -- model       : Instance of inception model\n",
    "    -- batch_size  : Batch size of images for the model to process at once.\n",
    "                     Make sure that the number of samples is a multiple of\n",
    "                     the batch size, otherwise some samples are ignored. This\n",
    "                     behavior is retained to match the original FID score\n",
    "                     implementation.\n",
    "    -- dims        : Dimensionality of features returned by Inception\n",
    "    -- device      : Device to run calculations\n",
    "    -- num_workers : Number of parallel dataloader workers\n",
    "\n",
    "    Returns:\n",
    "    -- A numpy array of dimension (num images, dims) that contains the\n",
    "       activations of the given tensor when feeding inception with the\n",
    "       query tensor.\n",
    "    \"\"\"\n",
    "    model.eval()\n",
    "    # samples is a torch array\n",
    "\n",
    "    pred_arr = np.empty((samples.shape[0], dims))\n",
    "    start_idx = 0\n",
    "\n",
    "    n_iters = samples.shape[0] // batch_size # try to make this an int\n",
    "\n",
    "    for i in range(n_iters):\n",
    "        batch = samples[i*batch_size: i*batch_size + batch_size]\n",
    "        batch = batch.to(device)\n",
    "\n",
    "        with torch.no_grad():\n",
    "            pred = model(batch)[0]\n",
    "\n",
    "        # If model output is not scalar, apply global spatial average pooling.\n",
    "        # This happens if you choose a dimensionality not equal 2048.\n",
    "        if pred.size(2) != 1 or pred.size(3) != 1:\n",
    "            pred = adaptive_avg_pool2d(pred, output_size=(1, 1))\n",
    "\n",
    "        pred = pred.squeeze(3).squeeze(2).cpu().numpy()\n",
    "\n",
    "        pred_arr[start_idx:start_idx + pred.shape[0]] = pred\n",
    "\n",
    "        start_idx = start_idx + pred.shape[0]\n",
    "\n",
    "    return pred_arr\n",
    "\n",
    "def calculate_frechet_distance(mu1, sigma1, mu2, sigma2, eps=1e-6):\n",
    "    \"\"\"Numpy implementation of the Frechet Distance.\n",
    "    The Frechet distance between two multivariate Gaussians X_1 ~ N(mu_1, C_1)\n",
    "    and X_2 ~ N(mu_2, C_2) is\n",
    "            d^2 = ||mu_1 - mu_2||^2 + Tr(C_1 + C_2 - 2*sqrt(C_1*C_2)).\n",
    "\n",
    "    Stable version by Dougal J. Sutherland.\n",
    "\n",
    "    Params:\n",
    "    -- mu1   : Numpy array containing the activations of a layer of the\n",
    "               inception net (like returned by the function 'get_predictions')\n",
    "               for generated samples.\n",
    "    -- mu2   : The sample mean over activations, precalculated on an\n",
    "               representative data set.\n",
    "    -- sigma1: The covariance matrix over activations for generated samples.\n",
    "    -- sigma2: The covariance matrix over activations, precalculated on an\n",
    "               representative data set.\n",
    "\n",
    "    Returns:\n",
    "    --   : The Frechet Distance.\n",
    "    \"\"\"\n",
    "\n",
    "    mu1 = np.atleast_1d(mu1)\n",
    "    mu2 = np.atleast_1d(mu2)\n",
    "\n",
    "    sigma1 = np.atleast_2d(sigma1)\n",
    "    sigma2 = np.atleast_2d(sigma2)\n",
    "\n",
    "    assert mu1.shape == mu2.shape, \\\n",
    "        'Training and test mean vectors have different lengths'\n",
    "    assert sigma1.shape == sigma2.shape, \\\n",
    "        'Training and test covariances have different dimensions'\n",
    "\n",
    "    diff = mu1 - mu2\n",
    "\n",
    "    # Product might be almost singular\n",
    "    covmean, _ = linalg.sqrtm(sigma1.dot(sigma2), disp=False)\n",
    "    if not np.isfinite(covmean).all():\n",
    "        msg = ('fid calculation produces singular product; '\n",
    "               'adding %s to diagonal of cov estimates') % eps\n",
    "        print(msg)\n",
    "        offset = np.eye(sigma1.shape[0]) * eps\n",
    "        covmean = linalg.sqrtm((sigma1 + offset).dot(sigma2 + offset))\n",
    "\n",
    "    # Numerical error might give slight imaginary component\n",
    "    if np.iscomplexobj(covmean):\n",
    "        if not np.allclose(np.diagonal(covmean).imag, 0, atol=1e-3):\n",
    "            m = np.max(np.abs(covmean.imag))\n",
    "            raise ValueError('Imaginary component {}'.format(m))\n",
    "        covmean = covmean.real\n",
    "\n",
    "    tr_covmean = np.trace(covmean)\n",
    "\n",
    "    return (diff.dot(diff) + np.trace(sigma1)\n",
    "            + np.trace(sigma2) - 2 * tr_covmean)\n",
    "\n",
    "def calculate_activation_statistics(samples, model, batch_size=50, dims=2048,\n",
    "                                    device='cpu', num_workers=1):\n",
    "    \"\"\"Calculation of the statistics used by the FID.\n",
    "    Params:\n",
    "    -- files       : List of image files paths\n",
    "    -- model       : Instance of inception model\n",
    "    -- batch_size  : The images numpy array is split into batches with\n",
    "                     batch size batch_size. A reasonable batch size\n",
    "                     depends on the hardware.\n",
    "    -- dims        : Dimensionality of features returned by Inception\n",
    "    -- device      : Device to run calculations\n",
    "    -- num_workers : Number of parallel dataloader workers\n",
    "\n",
    "    Returns:\n",
    "    -- mu    : The mean over samples of the activations of the pool_3 layer of\n",
    "               the inception model.\n",
    "    -- sigma : The covariance matrix of the activations of the pool_3 layer of\n",
    "               the inception model.\n",
    "    \"\"\"\n",
    "    act = get_activations(samples, model, batch_size, dims, device, num_workers)\n",
    "    mu = np.mean(act, axis=0)\n",
    "    sigma = np.cov(act, rowvar=False)\n",
    "    return mu, sigma\n",
    "\n",
    "\n",
    "def compute_statistics_of_samples(samples, model, batch_size, dims, device,\n",
    "                               num_workers=1):\n",
    "\n",
    "    m, s = calculate_activation_statistics(samples, model, batch_size,\n",
    "                                           dims, device, num_workers)\n",
    "\n",
    "    return m, s\n",
    "\n",
    "def calculate_fid_given_samples(samples, batch_size=50, device='cuda:0', dims=2048, num_workers=1):\n",
    "    \"\"\"Calculates the FID of two sample collection\"\"\"\n",
    "\n",
    "    block_idx = InceptionV3.BLOCK_INDEX_BY_DIM[dims]\n",
    "\n",
    "    model = InceptionV3([block_idx]).to(device)\n",
    "\n",
    "    m1, s1 = compute_statistics_of_samples(samples[0], model, batch_size,\n",
    "                                        dims, device, num_workers)\n",
    "    m2, s2 = compute_statistics_of_samples(samples[1], model, batch_size,\n",
    "                                        dims, device, num_workers)\n",
    "    fid_value = calculate_frechet_distance(m1, s1, m2, s2)\n",
    "\n",
    "    return fid_value"
   ]
  },
  {
   "cell_type": "code",
   "execution_count": 87,
   "metadata": {
    "tags": []
   },
   "outputs": [
    {
     "name": "stdout",
     "output_type": "stream",
     "text": [
      "Fid score:  79.10129805293457\n"
     ]
    }
   ],
   "source": [
    "\n",
    "fid = calculate_fid_given_samples([real_images, generated_images],device = device)\n",
    "print(\"Fid score: \", fid)"
   ]
  },
  {
   "cell_type": "code",
   "execution_count": null,
   "metadata": {},
   "outputs": [],
   "source": []
  }
 ],
 "metadata": {
  "accelerator": "GPU",
  "colab": {
   "gpuType": "T4",
   "machine_shape": "hm",
   "provenance": []
  },
  "kernelspec": {
   "display_name": ".venv",
   "language": "python",
   "name": "python3"
  },
  "language_info": {
   "codemirror_mode": {
    "name": "ipython",
    "version": 3
   },
   "file_extension": ".py",
   "mimetype": "text/x-python",
   "name": "python",
   "nbconvert_exporter": "python",
   "pygments_lexer": "ipython3",
   "version": "3.11.8"
  },
  "toc-autonumbering": true,
  "toc-showcode": false,
  "toc-showmarkdowntxt": true
 },
 "nbformat": 4,
 "nbformat_minor": 4
}
